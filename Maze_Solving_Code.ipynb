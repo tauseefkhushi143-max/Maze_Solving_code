{
 "cells": [
  {
   "cell_type": "markdown",
   "id": "fea2b40a-0e39-4891-a4cb-4a52ac3a1a16",
   "metadata": {},
   "source": [
    "1. Setup"
   ]
  },
  {
   "cell_type": "code",
   "execution_count": 2,
   "id": "32485c29-9776-4a54-bbc8-e246cb2c429a",
   "metadata": {},
   "outputs": [],
   "source": [
    "from PIL import Image, ImageDraw\n",
    "cell_size = 50\n",
    "cell_border = 2"
   ]
  },
  {
   "cell_type": "markdown",
   "id": "d4708768-9793-464d-b22b-27baa58c3efe",
   "metadata": {},
   "source": [
    "•\tImports PIL tools to draw images.\n",
    "•\tEach maze cell will be drawn as a 50x50 pixel square.\n",
    "•\tcell_border = spacing around the cell so walls/paths don’t stick together."
   ]
  },
  {
   "cell_type": "markdown",
   "id": "972354fb-aef2-432b-802e-247c771b182c",
   "metadata": {},
   "source": [
    "2. Create a blank canvas"
   ]
  },
  {
   "cell_type": "code",
   "execution_count": null,
   "id": "1d38e4ad-fe14-4d8f-8ee6-8c914def0151",
   "metadata": {},
   "outputs": [],
   "source": [
    "img = Image.new(\n",
    "    \"RGBA\",\n",
    "    (self.width * cell_size, self.height * cell_size),\n",
    "    \"black\"\n",
    ")\n",
    "draw = ImageDraw.Draw(img)"
   ]
  },
  {
   "cell_type": "code",
   "execution_count": null,
   "id": "3079e625-9fe2-4ab9-9a52-a091b801dd43",
   "metadata": {},
   "outputs": [],
   "source": [
    "•\tMakes an empty black image.\n",
    "•\tDimensions = maze width × cell_size and maze height × cell_size.\n",
    "•\tImageDraw.Draw(img) lets us draw rectangles on it."
   ]
  },
  {
   "cell_type": "markdown",
   "id": "3eee9397-4af2-4830-80b9-c04c15e54bde",
   "metadata": {},
   "source": [
    "3. Get the solution"
   ]
  },
  {
   "cell_type": "code",
   "execution_count": null,
   "id": "7eaa46f8-6dc7-441b-b551-7cd5d3a36ca4",
   "metadata": {},
   "outputs": [],
   "source": [
    "solution = self.solution[1] if self.solution is not None else None"
   ]
  },
  {
   "cell_type": "markdown",
   "id": "6b2a4347-b3a3-45a2-b853-ac5dd7cab0c5",
   "metadata": {},
   "source": [
    "•\tIf maze has been solved, solution = list of path cells.\n",
    "•\tOtherwise, solution=None."
   ]
  },
  {
   "cell_type": "markdown",
   "id": "13597bb1-6fe0-4f84-a2ac-a8f8abfe8148",
   "metadata": {},
   "source": [
    "4. Loop through each cell"
   ]
  },
  {
   "cell_type": "code",
   "execution_count": null,
   "id": "4cb4ebb8-a15f-4e60-b6e6-fe84ac001afd",
   "metadata": {},
   "outputs": [],
   "source": [
    "for i, row in enumerate(self.walls):\n",
    "    for j, col in enumerate(row):"
   ]
  },
  {
   "cell_type": "markdown",
   "id": "12e892b5-ada2-4bef-aae7-907f4bdbf6a0",
   "metadata": {},
   "source": [
    "•\tLoops through every maze cell (i, j)."
   ]
  },
  {
   "cell_type": "markdown",
   "id": "254d9457-adf0-4988-93ee-a385a31a0e7c",
   "metadata": {},
   "source": [
    "5. Color each cell"
   ]
  },
  {
   "cell_type": "code",
   "execution_count": null,
   "id": "a1bb467c-0d6e-494b-b456-77926435718d",
   "metadata": {},
   "outputs": [],
   "source": [
    "if col:\n",
    "    fill = (40, 40, 40)        # Walls = dark gray\n",
    "elif (i, j) == self.start:\n",
    "    fill = (255, 0, 0)         # Start = red\n",
    "elif (i, j) == self.goal:\n",
    "    fill = (0, 171, 28)        # Goal = green\n",
    "elif solution is not None and show_solution and (i, j) in solution:\n",
    "    fill = (220, 235, 113)     # Path solution = yellow\n",
    "elif solution is not None and show_explored and (i, j) in self.explored:\n",
    "    fill = (212, 97, 85)       # Explored but not path = orange-red\n",
    "else:\n",
    "    fill = (237, 240, 252)     # Empty = light gray\n"
   ]
  },
  {
   "cell_type": "markdown",
   "id": "fa92ebb8-3f5d-4ee2-9fc6-3c8798b38ad7",
   "metadata": {},
   "source": [
    "So the maze looks like this in the image:\n",
    "•\tWalls → Dark gray\n",
    "•\tStart (A) → Red\n",
    "•\tGoal (B) → Green\n",
    "•\tSolution path → Yellow\n",
    "•\tExplored cells (if enabled) → Orange-red\n",
    "•\tEmpty spaces → Light gray"
   ]
  },
  {
   "cell_type": "markdown",
   "id": "b0879ded-4ddc-406d-8716-94fed8edb410",
   "metadata": {},
   "source": [
    "6. Draw the rectangle"
   ]
  },
  {
   "cell_type": "code",
   "execution_count": null,
   "id": "7c0a4da8-04da-44bd-a4b8-c912b98c518e",
   "metadata": {},
   "outputs": [],
   "source": [
    "draw.rectangle(\n",
    "    ([(j * cell_size + cell_border, i * cell_size + cell_border),\n",
    "      ((j + 1) * cell_size - cell_border, (i + 1) * cell_size - cell_border)]),\n",
    "    fill=fill\n",
    ")"
   ]
  },
  {
   "cell_type": "markdown",
   "id": "17d28cad-5e4f-415f-8e60-4548005f504e",
   "metadata": {},
   "source": [
    "•\tConverts grid coordinates (i, j) into pixel coordinates.\n",
    "•\tDraws a rectangle filled with the right color."
   ]
  },
  {
   "cell_type": "markdown",
   "id": "6330d512-1e7f-470c-984a-206aa91e367b",
   "metadata": {},
   "source": [
    "7. Save the image"
   ]
  },
  {
   "cell_type": "code",
   "execution_count": null,
   "id": "80d9edd9-2183-418b-bb1d-ffcc7f2852a8",
   "metadata": {},
   "outputs": [],
   "source": [
    "img.save(filename"
   ]
  },
  {
   "cell_type": "markdown",
   "id": "82287b20-bf1b-44c0-9f23-e6c762fe20fc",
   "metadata": {},
   "source": [
    "•\tSaves the image as maze.png."
   ]
  },
  {
   "cell_type": "markdown",
   "id": "29fbc43e-5a33-49bb-9a9a-cfc1bc7074f8",
   "metadata": {},
   "source": [
    "🔹 The bottom code (command-line mode)"
   ]
  },
  {
   "cell_type": "code",
   "execution_count": null,
   "id": "fac15177-f14f-4ee3-8487-317528560aac",
   "metadata": {},
   "outputs": [],
   "source": [
    "if len(sys.argv) != 2:\n",
    "    sys.exit(\"Usage: python maze.py maze.txt\")\n",
    "\n",
    "m = Maze(sys.argv[1])\n",
    "print(\"Maze:\")\n",
    "m.print()\n",
    "print(\"Solving...\")\n",
    "m.solve()\n",
    "print(\"States Explored:\", m.num_explored)\n",
    "print(\"Solution:\")\n",
    "m.print()\n",
    "m.output_image(\"maze.png\", show_explored=True"
   ]
  },
  {
   "cell_type": "markdown",
   "id": "c829fc38-8f77-45cb-b590-51479e3f5d14",
   "metadata": {},
   "source": [
    "What it does:\n",
    "1.\tChecks if the user provided exactly 1 command-line argument (the maze file).\n",
    "o\tExample in terminal:"
   ]
  },
  {
   "cell_type": "code",
   "execution_count": null,
   "id": "edf9b1b4-b183-4ace-8b26-360c78cc0cb2",
   "metadata": {},
   "outputs": [],
   "source": [
    "python maze.py maze.txt"
   ]
  },
  {
   "cell_type": "markdown",
   "id": "848e1f47-6aba-4482-ada2-00804e5af661",
   "metadata": {},
   "source": [
    "2.\tLoads the maze from maze.txt.\n",
    "3.\tPrints the maze.\n",
    "4.\tSolves it.\n",
    "5.\tPrints how many states were explored.\n",
    "6.\tPrints the solution with * marks in console.\n",
    "7.\tCreates maze.png showing the maze visually."
   ]
  },
  {
   "cell_type": "markdown",
   "id": "9c27b447-3757-47ef-8d5e-a1b8e966bc92",
   "metadata": {},
   "source": [
    "⚠️ In Jupyter Notebook:\n",
    "•\tYou don’t use sys.argv.\n",
    "•\tInstead, you can just do:"
   ]
  },
  {
   "cell_type": "code",
   "execution_count": null,
   "id": "3f1d6622-01c2-431f-9f80-c9803c6b1d48",
   "metadata": {},
   "outputs": [],
   "source": [
    "m = Maze(\"maze.txt\")\n",
    "m.print()\n",
    "m.solve()\n",
    "m.print()\n",
    "m.output_image(\"maze.png\", show_explored=True)"
   ]
  },
  {
   "cell_type": "markdown",
   "id": "1c09c024-7710-44a8-a73d-4fc3f58884de",
   "metadata": {},
   "source": [
    "•\tAnd then display the image:"
   ]
  },
  {
   "cell_type": "code",
   "execution_count": null,
   "id": "0e1b2d30-eda5-483f-a079-a171d522d0c3",
   "metadata": {},
   "outputs": [],
   "source": [
    "from PIL import Image\n",
    "Image.open(\"maze.png\")"
   ]
  },
  {
   "cell_type": "markdown",
   "id": "e959af81-1257-403a-89fc-2f30d6fd8cd2",
   "metadata": {},
   "source": [
    "✅ Summary:\n",
    "•\toutput_image draws a maze picture with colors for start, goal, path, explored, walls, and spaces.\n",
    "•\tBottom code runs the solver from command line, but in Jupyter you just call the functions directly."
   ]
  }
 ],
 "metadata": {
  "kernelspec": {
   "display_name": "Python 3 (ipykernel)",
   "language": "python",
   "name": "python3"
  },
  "language_info": {
   "codemirror_mode": {
    "name": "ipython",
    "version": 3
   },
   "file_extension": ".py",
   "mimetype": "text/x-python",
   "name": "python",
   "nbconvert_exporter": "python",
   "pygments_lexer": "ipython3",
   "version": "3.13.5"
  }
 },
 "nbformat": 4,
 "nbformat_minor": 5
}
